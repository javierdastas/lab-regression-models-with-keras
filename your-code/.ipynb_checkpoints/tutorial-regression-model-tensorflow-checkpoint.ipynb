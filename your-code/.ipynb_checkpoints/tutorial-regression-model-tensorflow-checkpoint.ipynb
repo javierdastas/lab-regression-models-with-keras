{
 "cells": [
  {
   "cell_type": "markdown",
   "metadata": {},
   "source": [
    "<h2> Tutorial - Regression Models with Keras</h2>\n",
    "\n",
    "<h3>Objective for this Notebook<h3>    \n",
    "<h5> 1. How to use the Tensorflow API, Keras, to build a regression model.</h5>\n",
    "<h5> 2. Download and Clean dataset </h5>\n",
    "<h5> 3. Build a Neural Network </h5>\n",
    "<h5> 4. Train and Test the Network. </h5>     "
   ]
  },
  {
   "cell_type": "markdown",
   "metadata": {},
   "source": [
    "## Table of Contents\n",
    "\n",
    "<div class=\"alert alert-block alert-info\" style=\"margin-top: 20px\">\n",
    "\n",
    "<font size = 3>\n",
    "    \n",
    "1. <a href=\"#item31\">Download and Clean Dataset</a>  \n",
    "2. <a href=\"#item32\">Import Keras</a>  \n",
    "3. <a href=\"#item33\">Build a Neural Network</a>  \n",
    "4. <a href=\"#item34\">Train and Test the Network</a>  \n",
    "\n",
    "</font>\n",
    "</div>\n"
   ]
  },
  {
   "cell_type": "markdown",
   "metadata": {},
   "source": [
    "<a id=\"item31\"></a>\n"
   ]
  },
  {
   "cell_type": "markdown",
   "metadata": {},
   "source": [
    "## Download and Clean Dataset\n"
   ]
  },
  {
   "cell_type": "markdown",
   "metadata": {},
   "source": [
    "Let's start by importing the <em>pandas</em> and the Numpy libraries.\n"
   ]
  },
  {
   "cell_type": "code",
   "execution_count": 6,
   "metadata": {},
   "outputs": [],
   "source": [
    "import pandas as pd\n",
    "import numpy as np"
   ]
  },
  {
   "cell_type": "markdown",
   "metadata": {},
   "source": [
    "We will be playing around with the same dataset that we used in the videos.\n",
    "\n",
    "<strong>The dataset is about the compressive strength of different samples of concrete based on the volumes of the different ingredients that were used to make them. Ingredients include:</strong>\n",
    "\n",
    "<strong>1. Cement</strong>\n",
    "\n",
    "<strong>2. Blast Furnace Slag</strong>\n",
    "\n",
    "<strong>3. Fly Ash</strong>\n",
    "\n",
    "<strong>4. Water</strong>\n",
    "\n",
    "<strong>5. Superplasticizer</strong>\n",
    "\n",
    "<strong>6. Coarse Aggregate</strong>\n",
    "\n",
    "<strong>7. Fine Aggregate</strong>\n"
   ]
  },
  {
   "cell_type": "markdown",
   "metadata": {},
   "source": [
    "Let's download the data and read it into a <em>pandas</em> dataframe.\n"
   ]
  },
  {
   "cell_type": "code",
   "execution_count": 9,
   "metadata": {},
   "outputs": [
    {
     "data": {
      "text/html": [
       "<div>\n",
       "<style scoped>\n",
       "    .dataframe tbody tr th:only-of-type {\n",
       "        vertical-align: middle;\n",
       "    }\n",
       "\n",
       "    .dataframe tbody tr th {\n",
       "        vertical-align: top;\n",
       "    }\n",
       "\n",
       "    .dataframe thead th {\n",
       "        text-align: right;\n",
       "    }\n",
       "</style>\n",
       "<table border=\"1\" class=\"dataframe\">\n",
       "  <thead>\n",
       "    <tr style=\"text-align: right;\">\n",
       "      <th></th>\n",
       "      <th>Cement</th>\n",
       "      <th>Blast Furnace Slag</th>\n",
       "      <th>Fly Ash</th>\n",
       "      <th>Water</th>\n",
       "      <th>Superplasticizer</th>\n",
       "      <th>Coarse Aggregate</th>\n",
       "      <th>Fine Aggregate</th>\n",
       "      <th>Age</th>\n",
       "      <th>Strength</th>\n",
       "    </tr>\n",
       "  </thead>\n",
       "  <tbody>\n",
       "    <tr>\n",
       "      <th>0</th>\n",
       "      <td>540.0</td>\n",
       "      <td>0.0</td>\n",
       "      <td>0.0</td>\n",
       "      <td>162.0</td>\n",
       "      <td>2.5</td>\n",
       "      <td>1040.0</td>\n",
       "      <td>676.0</td>\n",
       "      <td>28</td>\n",
       "      <td>79.99</td>\n",
       "    </tr>\n",
       "    <tr>\n",
       "      <th>1</th>\n",
       "      <td>540.0</td>\n",
       "      <td>0.0</td>\n",
       "      <td>0.0</td>\n",
       "      <td>162.0</td>\n",
       "      <td>2.5</td>\n",
       "      <td>1055.0</td>\n",
       "      <td>676.0</td>\n",
       "      <td>28</td>\n",
       "      <td>61.89</td>\n",
       "    </tr>\n",
       "    <tr>\n",
       "      <th>2</th>\n",
       "      <td>332.5</td>\n",
       "      <td>142.5</td>\n",
       "      <td>0.0</td>\n",
       "      <td>228.0</td>\n",
       "      <td>0.0</td>\n",
       "      <td>932.0</td>\n",
       "      <td>594.0</td>\n",
       "      <td>270</td>\n",
       "      <td>40.27</td>\n",
       "    </tr>\n",
       "    <tr>\n",
       "      <th>3</th>\n",
       "      <td>332.5</td>\n",
       "      <td>142.5</td>\n",
       "      <td>0.0</td>\n",
       "      <td>228.0</td>\n",
       "      <td>0.0</td>\n",
       "      <td>932.0</td>\n",
       "      <td>594.0</td>\n",
       "      <td>365</td>\n",
       "      <td>41.05</td>\n",
       "    </tr>\n",
       "    <tr>\n",
       "      <th>4</th>\n",
       "      <td>198.6</td>\n",
       "      <td>132.4</td>\n",
       "      <td>0.0</td>\n",
       "      <td>192.0</td>\n",
       "      <td>0.0</td>\n",
       "      <td>978.4</td>\n",
       "      <td>825.5</td>\n",
       "      <td>360</td>\n",
       "      <td>44.30</td>\n",
       "    </tr>\n",
       "  </tbody>\n",
       "</table>\n",
       "</div>"
      ],
      "text/plain": [
       "   Cement  Blast Furnace Slag  Fly Ash  Water  Superplasticizer  \\\n",
       "0   540.0                 0.0      0.0  162.0               2.5   \n",
       "1   540.0                 0.0      0.0  162.0               2.5   \n",
       "2   332.5               142.5      0.0  228.0               0.0   \n",
       "3   332.5               142.5      0.0  228.0               0.0   \n",
       "4   198.6               132.4      0.0  192.0               0.0   \n",
       "\n",
       "   Coarse Aggregate  Fine Aggregate  Age  Strength  \n",
       "0            1040.0           676.0   28     79.99  \n",
       "1            1055.0           676.0   28     61.89  \n",
       "2             932.0           594.0  270     40.27  \n",
       "3             932.0           594.0  365     41.05  \n",
       "4             978.4           825.5  360     44.30  "
      ]
     },
     "execution_count": 9,
     "metadata": {},
     "output_type": "execute_result"
    }
   ],
   "source": [
    "concrete_data = pd.read_csv('https://s3-api.us-geo.objectstorage.softlayer.net/cf-courses-data/CognitiveClass/DL0101EN/labs/data/concrete_data.csv')\n",
    "concrete_data.head()"
   ]
  },
  {
   "cell_type": "markdown",
   "metadata": {},
   "source": [
    "So the first concrete sample has 540 cubic meter of cement, 0 cubic meter of blast furnace slag, 0 cubic meter of fly ash, 162 cubic meter of water, 2.5 cubic meter of superplaticizer, 1040 cubic meter of coarse aggregate, 676 cubic meter of fine aggregate. Such a concrete mix which is 28 days old, has a compressive strength of 79.99 MPa. \n"
   ]
  },
  {
   "cell_type": "markdown",
   "metadata": {},
   "source": [
    "#### Let's check how many data points we have.\n"
   ]
  },
  {
   "cell_type": "code",
   "execution_count": 12,
   "metadata": {},
   "outputs": [
    {
     "data": {
      "text/plain": [
       "(1030, 9)"
      ]
     },
     "execution_count": 12,
     "metadata": {},
     "output_type": "execute_result"
    }
   ],
   "source": [
    "concrete_data.shape"
   ]
  },
  {
   "cell_type": "markdown",
   "metadata": {},
   "source": [
    "So, there are approximately 1000 samples to train our model on. Because of the few samples, we have to be careful not to overfit the training data.\n"
   ]
  },
  {
   "cell_type": "markdown",
   "metadata": {},
   "source": [
    "Let's check the dataset for any missing values.\n"
   ]
  },
  {
   "cell_type": "code",
   "execution_count": 15,
   "metadata": {},
   "outputs": [
    {
     "data": {
      "text/html": [
       "<div>\n",
       "<style scoped>\n",
       "    .dataframe tbody tr th:only-of-type {\n",
       "        vertical-align: middle;\n",
       "    }\n",
       "\n",
       "    .dataframe tbody tr th {\n",
       "        vertical-align: top;\n",
       "    }\n",
       "\n",
       "    .dataframe thead th {\n",
       "        text-align: right;\n",
       "    }\n",
       "</style>\n",
       "<table border=\"1\" class=\"dataframe\">\n",
       "  <thead>\n",
       "    <tr style=\"text-align: right;\">\n",
       "      <th></th>\n",
       "      <th>Cement</th>\n",
       "      <th>Blast Furnace Slag</th>\n",
       "      <th>Fly Ash</th>\n",
       "      <th>Water</th>\n",
       "      <th>Superplasticizer</th>\n",
       "      <th>Coarse Aggregate</th>\n",
       "      <th>Fine Aggregate</th>\n",
       "      <th>Age</th>\n",
       "      <th>Strength</th>\n",
       "    </tr>\n",
       "  </thead>\n",
       "  <tbody>\n",
       "    <tr>\n",
       "      <th>count</th>\n",
       "      <td>1030.000000</td>\n",
       "      <td>1030.000000</td>\n",
       "      <td>1030.000000</td>\n",
       "      <td>1030.000000</td>\n",
       "      <td>1030.000000</td>\n",
       "      <td>1030.000000</td>\n",
       "      <td>1030.000000</td>\n",
       "      <td>1030.000000</td>\n",
       "      <td>1030.000000</td>\n",
       "    </tr>\n",
       "    <tr>\n",
       "      <th>mean</th>\n",
       "      <td>281.167864</td>\n",
       "      <td>73.895825</td>\n",
       "      <td>54.188350</td>\n",
       "      <td>181.567282</td>\n",
       "      <td>6.204660</td>\n",
       "      <td>972.918932</td>\n",
       "      <td>773.580485</td>\n",
       "      <td>45.662136</td>\n",
       "      <td>35.817961</td>\n",
       "    </tr>\n",
       "    <tr>\n",
       "      <th>std</th>\n",
       "      <td>104.506364</td>\n",
       "      <td>86.279342</td>\n",
       "      <td>63.997004</td>\n",
       "      <td>21.354219</td>\n",
       "      <td>5.973841</td>\n",
       "      <td>77.753954</td>\n",
       "      <td>80.175980</td>\n",
       "      <td>63.169912</td>\n",
       "      <td>16.705742</td>\n",
       "    </tr>\n",
       "    <tr>\n",
       "      <th>min</th>\n",
       "      <td>102.000000</td>\n",
       "      <td>0.000000</td>\n",
       "      <td>0.000000</td>\n",
       "      <td>121.800000</td>\n",
       "      <td>0.000000</td>\n",
       "      <td>801.000000</td>\n",
       "      <td>594.000000</td>\n",
       "      <td>1.000000</td>\n",
       "      <td>2.330000</td>\n",
       "    </tr>\n",
       "    <tr>\n",
       "      <th>25%</th>\n",
       "      <td>192.375000</td>\n",
       "      <td>0.000000</td>\n",
       "      <td>0.000000</td>\n",
       "      <td>164.900000</td>\n",
       "      <td>0.000000</td>\n",
       "      <td>932.000000</td>\n",
       "      <td>730.950000</td>\n",
       "      <td>7.000000</td>\n",
       "      <td>23.710000</td>\n",
       "    </tr>\n",
       "    <tr>\n",
       "      <th>50%</th>\n",
       "      <td>272.900000</td>\n",
       "      <td>22.000000</td>\n",
       "      <td>0.000000</td>\n",
       "      <td>185.000000</td>\n",
       "      <td>6.400000</td>\n",
       "      <td>968.000000</td>\n",
       "      <td>779.500000</td>\n",
       "      <td>28.000000</td>\n",
       "      <td>34.445000</td>\n",
       "    </tr>\n",
       "    <tr>\n",
       "      <th>75%</th>\n",
       "      <td>350.000000</td>\n",
       "      <td>142.950000</td>\n",
       "      <td>118.300000</td>\n",
       "      <td>192.000000</td>\n",
       "      <td>10.200000</td>\n",
       "      <td>1029.400000</td>\n",
       "      <td>824.000000</td>\n",
       "      <td>56.000000</td>\n",
       "      <td>46.135000</td>\n",
       "    </tr>\n",
       "    <tr>\n",
       "      <th>max</th>\n",
       "      <td>540.000000</td>\n",
       "      <td>359.400000</td>\n",
       "      <td>200.100000</td>\n",
       "      <td>247.000000</td>\n",
       "      <td>32.200000</td>\n",
       "      <td>1145.000000</td>\n",
       "      <td>992.600000</td>\n",
       "      <td>365.000000</td>\n",
       "      <td>82.600000</td>\n",
       "    </tr>\n",
       "  </tbody>\n",
       "</table>\n",
       "</div>"
      ],
      "text/plain": [
       "            Cement  Blast Furnace Slag      Fly Ash        Water  \\\n",
       "count  1030.000000         1030.000000  1030.000000  1030.000000   \n",
       "mean    281.167864           73.895825    54.188350   181.567282   \n",
       "std     104.506364           86.279342    63.997004    21.354219   \n",
       "min     102.000000            0.000000     0.000000   121.800000   \n",
       "25%     192.375000            0.000000     0.000000   164.900000   \n",
       "50%     272.900000           22.000000     0.000000   185.000000   \n",
       "75%     350.000000          142.950000   118.300000   192.000000   \n",
       "max     540.000000          359.400000   200.100000   247.000000   \n",
       "\n",
       "       Superplasticizer  Coarse Aggregate  Fine Aggregate          Age  \\\n",
       "count       1030.000000       1030.000000     1030.000000  1030.000000   \n",
       "mean           6.204660        972.918932      773.580485    45.662136   \n",
       "std            5.973841         77.753954       80.175980    63.169912   \n",
       "min            0.000000        801.000000      594.000000     1.000000   \n",
       "25%            0.000000        932.000000      730.950000     7.000000   \n",
       "50%            6.400000        968.000000      779.500000    28.000000   \n",
       "75%           10.200000       1029.400000      824.000000    56.000000   \n",
       "max           32.200000       1145.000000      992.600000   365.000000   \n",
       "\n",
       "          Strength  \n",
       "count  1030.000000  \n",
       "mean     35.817961  \n",
       "std      16.705742  \n",
       "min       2.330000  \n",
       "25%      23.710000  \n",
       "50%      34.445000  \n",
       "75%      46.135000  \n",
       "max      82.600000  "
      ]
     },
     "execution_count": 15,
     "metadata": {},
     "output_type": "execute_result"
    }
   ],
   "source": [
    "concrete_data.describe()"
   ]
  },
  {
   "cell_type": "code",
   "execution_count": 16,
   "metadata": {},
   "outputs": [
    {
     "data": {
      "text/plain": [
       "Cement                0\n",
       "Blast Furnace Slag    0\n",
       "Fly Ash               0\n",
       "Water                 0\n",
       "Superplasticizer      0\n",
       "Coarse Aggregate      0\n",
       "Fine Aggregate        0\n",
       "Age                   0\n",
       "Strength              0\n",
       "dtype: int64"
      ]
     },
     "execution_count": 16,
     "metadata": {},
     "output_type": "execute_result"
    }
   ],
   "source": [
    "concrete_data.isnull().sum()"
   ]
  },
  {
   "cell_type": "markdown",
   "metadata": {},
   "source": [
    "The data looks very clean and is ready to be used to build our model.\n"
   ]
  },
  {
   "cell_type": "markdown",
   "metadata": {},
   "source": [
    "#### Split data into predictors and target\n"
   ]
  },
  {
   "cell_type": "markdown",
   "metadata": {},
   "source": [
    "The target variable in this problem is the concrete sample strength. Therefore, our predictors will be all the other columns.\n"
   ]
  },
  {
   "cell_type": "code",
   "execution_count": 20,
   "metadata": {},
   "outputs": [],
   "source": [
    "concrete_data_columns = concrete_data.columns\n",
    "\n",
    "predictors = concrete_data[concrete_data_columns[concrete_data_columns != 'Strength']] # all columns except Strength\n",
    "target = concrete_data['Strength'] # Strength column"
   ]
  },
  {
   "cell_type": "markdown",
   "metadata": {},
   "source": [
    "<a id=\"item2\"></a>\n"
   ]
  },
  {
   "cell_type": "markdown",
   "metadata": {},
   "source": [
    "Let's do a quick sanity check of the predictors and the target dataframes.\n"
   ]
  },
  {
   "cell_type": "code",
   "execution_count": 23,
   "metadata": {},
   "outputs": [
    {
     "data": {
      "text/html": [
       "<div>\n",
       "<style scoped>\n",
       "    .dataframe tbody tr th:only-of-type {\n",
       "        vertical-align: middle;\n",
       "    }\n",
       "\n",
       "    .dataframe tbody tr th {\n",
       "        vertical-align: top;\n",
       "    }\n",
       "\n",
       "    .dataframe thead th {\n",
       "        text-align: right;\n",
       "    }\n",
       "</style>\n",
       "<table border=\"1\" class=\"dataframe\">\n",
       "  <thead>\n",
       "    <tr style=\"text-align: right;\">\n",
       "      <th></th>\n",
       "      <th>Cement</th>\n",
       "      <th>Blast Furnace Slag</th>\n",
       "      <th>Fly Ash</th>\n",
       "      <th>Water</th>\n",
       "      <th>Superplasticizer</th>\n",
       "      <th>Coarse Aggregate</th>\n",
       "      <th>Fine Aggregate</th>\n",
       "      <th>Age</th>\n",
       "    </tr>\n",
       "  </thead>\n",
       "  <tbody>\n",
       "    <tr>\n",
       "      <th>0</th>\n",
       "      <td>540.0</td>\n",
       "      <td>0.0</td>\n",
       "      <td>0.0</td>\n",
       "      <td>162.0</td>\n",
       "      <td>2.5</td>\n",
       "      <td>1040.0</td>\n",
       "      <td>676.0</td>\n",
       "      <td>28</td>\n",
       "    </tr>\n",
       "    <tr>\n",
       "      <th>1</th>\n",
       "      <td>540.0</td>\n",
       "      <td>0.0</td>\n",
       "      <td>0.0</td>\n",
       "      <td>162.0</td>\n",
       "      <td>2.5</td>\n",
       "      <td>1055.0</td>\n",
       "      <td>676.0</td>\n",
       "      <td>28</td>\n",
       "    </tr>\n",
       "    <tr>\n",
       "      <th>2</th>\n",
       "      <td>332.5</td>\n",
       "      <td>142.5</td>\n",
       "      <td>0.0</td>\n",
       "      <td>228.0</td>\n",
       "      <td>0.0</td>\n",
       "      <td>932.0</td>\n",
       "      <td>594.0</td>\n",
       "      <td>270</td>\n",
       "    </tr>\n",
       "    <tr>\n",
       "      <th>3</th>\n",
       "      <td>332.5</td>\n",
       "      <td>142.5</td>\n",
       "      <td>0.0</td>\n",
       "      <td>228.0</td>\n",
       "      <td>0.0</td>\n",
       "      <td>932.0</td>\n",
       "      <td>594.0</td>\n",
       "      <td>365</td>\n",
       "    </tr>\n",
       "    <tr>\n",
       "      <th>4</th>\n",
       "      <td>198.6</td>\n",
       "      <td>132.4</td>\n",
       "      <td>0.0</td>\n",
       "      <td>192.0</td>\n",
       "      <td>0.0</td>\n",
       "      <td>978.4</td>\n",
       "      <td>825.5</td>\n",
       "      <td>360</td>\n",
       "    </tr>\n",
       "  </tbody>\n",
       "</table>\n",
       "</div>"
      ],
      "text/plain": [
       "   Cement  Blast Furnace Slag  Fly Ash  Water  Superplasticizer  \\\n",
       "0   540.0                 0.0      0.0  162.0               2.5   \n",
       "1   540.0                 0.0      0.0  162.0               2.5   \n",
       "2   332.5               142.5      0.0  228.0               0.0   \n",
       "3   332.5               142.5      0.0  228.0               0.0   \n",
       "4   198.6               132.4      0.0  192.0               0.0   \n",
       "\n",
       "   Coarse Aggregate  Fine Aggregate  Age  \n",
       "0            1040.0           676.0   28  \n",
       "1            1055.0           676.0   28  \n",
       "2             932.0           594.0  270  \n",
       "3             932.0           594.0  365  \n",
       "4             978.4           825.5  360  "
      ]
     },
     "execution_count": 23,
     "metadata": {},
     "output_type": "execute_result"
    }
   ],
   "source": [
    "predictors.head()"
   ]
  },
  {
   "cell_type": "code",
   "execution_count": 24,
   "metadata": {},
   "outputs": [
    {
     "data": {
      "text/plain": [
       "0    79.99\n",
       "1    61.89\n",
       "2    40.27\n",
       "3    41.05\n",
       "4    44.30\n",
       "Name: Strength, dtype: float64"
      ]
     },
     "execution_count": 24,
     "metadata": {},
     "output_type": "execute_result"
    }
   ],
   "source": [
    "target.head()"
   ]
  },
  {
   "cell_type": "markdown",
   "metadata": {},
   "source": [
    "Finally, the last step is to normalize the data by substracting the mean and dividing by the standard deviation.\n"
   ]
  },
  {
   "cell_type": "code",
   "execution_count": 26,
   "metadata": {},
   "outputs": [
    {
     "data": {
      "text/html": [
       "<div>\n",
       "<style scoped>\n",
       "    .dataframe tbody tr th:only-of-type {\n",
       "        vertical-align: middle;\n",
       "    }\n",
       "\n",
       "    .dataframe tbody tr th {\n",
       "        vertical-align: top;\n",
       "    }\n",
       "\n",
       "    .dataframe thead th {\n",
       "        text-align: right;\n",
       "    }\n",
       "</style>\n",
       "<table border=\"1\" class=\"dataframe\">\n",
       "  <thead>\n",
       "    <tr style=\"text-align: right;\">\n",
       "      <th></th>\n",
       "      <th>Cement</th>\n",
       "      <th>Blast Furnace Slag</th>\n",
       "      <th>Fly Ash</th>\n",
       "      <th>Water</th>\n",
       "      <th>Superplasticizer</th>\n",
       "      <th>Coarse Aggregate</th>\n",
       "      <th>Fine Aggregate</th>\n",
       "      <th>Age</th>\n",
       "    </tr>\n",
       "  </thead>\n",
       "  <tbody>\n",
       "    <tr>\n",
       "      <th>0</th>\n",
       "      <td>2.476712</td>\n",
       "      <td>-0.856472</td>\n",
       "      <td>-0.846733</td>\n",
       "      <td>-0.916319</td>\n",
       "      <td>-0.620147</td>\n",
       "      <td>0.862735</td>\n",
       "      <td>-1.217079</td>\n",
       "      <td>-0.279597</td>\n",
       "    </tr>\n",
       "    <tr>\n",
       "      <th>1</th>\n",
       "      <td>2.476712</td>\n",
       "      <td>-0.856472</td>\n",
       "      <td>-0.846733</td>\n",
       "      <td>-0.916319</td>\n",
       "      <td>-0.620147</td>\n",
       "      <td>1.055651</td>\n",
       "      <td>-1.217079</td>\n",
       "      <td>-0.279597</td>\n",
       "    </tr>\n",
       "    <tr>\n",
       "      <th>2</th>\n",
       "      <td>0.491187</td>\n",
       "      <td>0.795140</td>\n",
       "      <td>-0.846733</td>\n",
       "      <td>2.174405</td>\n",
       "      <td>-1.038638</td>\n",
       "      <td>-0.526262</td>\n",
       "      <td>-2.239829</td>\n",
       "      <td>3.551340</td>\n",
       "    </tr>\n",
       "    <tr>\n",
       "      <th>3</th>\n",
       "      <td>0.491187</td>\n",
       "      <td>0.795140</td>\n",
       "      <td>-0.846733</td>\n",
       "      <td>2.174405</td>\n",
       "      <td>-1.038638</td>\n",
       "      <td>-0.526262</td>\n",
       "      <td>-2.239829</td>\n",
       "      <td>5.055221</td>\n",
       "    </tr>\n",
       "    <tr>\n",
       "      <th>4</th>\n",
       "      <td>-0.790075</td>\n",
       "      <td>0.678079</td>\n",
       "      <td>-0.846733</td>\n",
       "      <td>0.488555</td>\n",
       "      <td>-1.038638</td>\n",
       "      <td>0.070492</td>\n",
       "      <td>0.647569</td>\n",
       "      <td>4.976069</td>\n",
       "    </tr>\n",
       "  </tbody>\n",
       "</table>\n",
       "</div>"
      ],
      "text/plain": [
       "     Cement  Blast Furnace Slag   Fly Ash     Water  Superplasticizer  \\\n",
       "0  2.476712           -0.856472 -0.846733 -0.916319         -0.620147   \n",
       "1  2.476712           -0.856472 -0.846733 -0.916319         -0.620147   \n",
       "2  0.491187            0.795140 -0.846733  2.174405         -1.038638   \n",
       "3  0.491187            0.795140 -0.846733  2.174405         -1.038638   \n",
       "4 -0.790075            0.678079 -0.846733  0.488555         -1.038638   \n",
       "\n",
       "   Coarse Aggregate  Fine Aggregate       Age  \n",
       "0          0.862735       -1.217079 -0.279597  \n",
       "1          1.055651       -1.217079 -0.279597  \n",
       "2         -0.526262       -2.239829  3.551340  \n",
       "3         -0.526262       -2.239829  5.055221  \n",
       "4          0.070492        0.647569  4.976069  "
      ]
     },
     "execution_count": 26,
     "metadata": {},
     "output_type": "execute_result"
    }
   ],
   "source": [
    "predictors_norm = (predictors - predictors.mean()) / predictors.std()\n",
    "predictors_norm.head()"
   ]
  },
  {
   "cell_type": "markdown",
   "metadata": {},
   "source": [
    "Let's save the number of predictors to *n_cols* since we will need this number when building our network.\n"
   ]
  },
  {
   "cell_type": "code",
   "execution_count": 28,
   "metadata": {},
   "outputs": [],
   "source": [
    "n_cols = predictors_norm.shape[1] # number of predictors"
   ]
  },
  {
   "cell_type": "markdown",
   "metadata": {},
   "source": [
    "<a id=\"item1\"></a>\n"
   ]
  },
  {
   "cell_type": "markdown",
   "metadata": {},
   "source": [
    "<a id='item32'></a>\n"
   ]
  },
  {
   "cell_type": "markdown",
   "metadata": {},
   "source": [
    "## Import Keras\n"
   ]
  },
  {
   "cell_type": "markdown",
   "metadata": {},
   "source": [
    "Recall from the videos that Keras normally runs on top of a low-level library such as TensorFlow. This means that to be able to use the Keras library, you will have to install TensorFlow first and when you import the Keras library, it will be explicitly displayed what backend was used to install the Keras library. In CC Labs, we used TensorFlow as the backend to install Keras, so it should clearly print that when we import Keras.\n"
   ]
  },
  {
   "cell_type": "markdown",
   "metadata": {},
   "source": [
    "#### Let's go ahead and import the Keras library\n"
   ]
  },
  {
   "cell_type": "code",
   "execution_count": 34,
   "metadata": {},
   "outputs": [],
   "source": [
    "from tensorflow import keras"
   ]
  },
  {
   "cell_type": "markdown",
   "metadata": {},
   "source": [
    "As you can see, the TensorFlow backend was used to install the Keras library.\n"
   ]
  },
  {
   "cell_type": "markdown",
   "metadata": {},
   "source": [
    "Let's import the rest of the packages from the Keras library that we will need to build our regressoin model.\n"
   ]
  },
  {
   "cell_type": "code",
   "execution_count": 37,
   "metadata": {},
   "outputs": [],
   "source": [
    "from keras.models import Sequential\n",
    "from keras.layers import Dense, Dropout, Input"
   ]
  },
  {
   "cell_type": "markdown",
   "metadata": {},
   "source": [
    "<a id='item33'></a>\n"
   ]
  },
  {
   "cell_type": "markdown",
   "metadata": {},
   "source": [
    "## Build a Neural Network\n"
   ]
  },
  {
   "cell_type": "markdown",
   "metadata": {},
   "source": [
    "Let's define a function that defines our regression model for us so that we can conveniently call it to create our model.\n"
   ]
  },
  {
   "cell_type": "code",
   "execution_count": 41,
   "metadata": {},
   "outputs": [],
   "source": [
    "# define regression model\n",
    "def regression_model(input_dim):\n",
    "    # create model\n",
    "    model = Sequential([\n",
    "        Input(shape=(input_dim,)),  # Explicit input layer\n",
    "        Dense(50, activation='relu'),                    # First hidden layer\n",
    "        Dense(50, activation='relu'),                     # Second hidden layer\n",
    "        Dense(1, activation='linear')                     # Output layer for regression\n",
    "    ])\n",
    "\n",
    "    # compile model\n",
    "    model.compile(optimizer='adam', loss='mean_squared_error')\n",
    "    return model"
   ]
  },
  {
   "cell_type": "markdown",
   "metadata": {},
   "source": [
    "The above function create a model that has two hidden layers, each of 50 hidden units.\n"
   ]
  },
  {
   "cell_type": "markdown",
   "metadata": {},
   "source": [
    "<a id=\"item4\"></a>\n"
   ]
  },
  {
   "cell_type": "markdown",
   "metadata": {},
   "source": [
    "<a id='item34'></a>\n"
   ]
  },
  {
   "cell_type": "markdown",
   "metadata": {},
   "source": [
    "## Train and Test the Network\n"
   ]
  },
  {
   "cell_type": "markdown",
   "metadata": {},
   "source": [
    "Let's call the function now to create our model.\n"
   ]
  },
  {
   "cell_type": "code",
   "execution_count": 47,
   "metadata": {
    "scrolled": true
   },
   "outputs": [
    {
     "data": {
      "text/html": [
       "<pre style=\"white-space:pre;overflow-x:auto;line-height:normal;font-family:Menlo,'DejaVu Sans Mono',consolas,'Courier New',monospace\"><span style=\"font-weight: bold\">Model: \"sequential\"</span>\n",
       "</pre>\n"
      ],
      "text/plain": [
       "\u001b[1mModel: \"sequential\"\u001b[0m\n"
      ]
     },
     "metadata": {},
     "output_type": "display_data"
    },
    {
     "data": {
      "text/html": [
       "<pre style=\"white-space:pre;overflow-x:auto;line-height:normal;font-family:Menlo,'DejaVu Sans Mono',consolas,'Courier New',monospace\">┏━━━━━━━━━━━━━━━━━━━━━━━━━━━━━━━━━┳━━━━━━━━━━━━━━━━━━━━━━━━┳━━━━━━━━━━━━━━━┓\n",
       "┃<span style=\"font-weight: bold\"> Layer (type)                    </span>┃<span style=\"font-weight: bold\"> Output Shape           </span>┃<span style=\"font-weight: bold\">       Param # </span>┃\n",
       "┡━━━━━━━━━━━━━━━━━━━━━━━━━━━━━━━━━╇━━━━━━━━━━━━━━━━━━━━━━━━╇━━━━━━━━━━━━━━━┩\n",
       "│ dense (<span style=\"color: #0087ff; text-decoration-color: #0087ff\">Dense</span>)                   │ (<span style=\"color: #00d7ff; text-decoration-color: #00d7ff\">None</span>, <span style=\"color: #00af00; text-decoration-color: #00af00\">50</span>)             │           <span style=\"color: #00af00; text-decoration-color: #00af00\">450</span> │\n",
       "├─────────────────────────────────┼────────────────────────┼───────────────┤\n",
       "│ dense_1 (<span style=\"color: #0087ff; text-decoration-color: #0087ff\">Dense</span>)                 │ (<span style=\"color: #00d7ff; text-decoration-color: #00d7ff\">None</span>, <span style=\"color: #00af00; text-decoration-color: #00af00\">50</span>)             │         <span style=\"color: #00af00; text-decoration-color: #00af00\">2,550</span> │\n",
       "├─────────────────────────────────┼────────────────────────┼───────────────┤\n",
       "│ dense_2 (<span style=\"color: #0087ff; text-decoration-color: #0087ff\">Dense</span>)                 │ (<span style=\"color: #00d7ff; text-decoration-color: #00d7ff\">None</span>, <span style=\"color: #00af00; text-decoration-color: #00af00\">1</span>)              │            <span style=\"color: #00af00; text-decoration-color: #00af00\">51</span> │\n",
       "└─────────────────────────────────┴────────────────────────┴───────────────┘\n",
       "</pre>\n"
      ],
      "text/plain": [
       "┏━━━━━━━━━━━━━━━━━━━━━━━━━━━━━━━━━┳━━━━━━━━━━━━━━━━━━━━━━━━┳━━━━━━━━━━━━━━━┓\n",
       "┃\u001b[1m \u001b[0m\u001b[1mLayer (type)                   \u001b[0m\u001b[1m \u001b[0m┃\u001b[1m \u001b[0m\u001b[1mOutput Shape          \u001b[0m\u001b[1m \u001b[0m┃\u001b[1m \u001b[0m\u001b[1m      Param #\u001b[0m\u001b[1m \u001b[0m┃\n",
       "┡━━━━━━━━━━━━━━━━━━━━━━━━━━━━━━━━━╇━━━━━━━━━━━━━━━━━━━━━━━━╇━━━━━━━━━━━━━━━┩\n",
       "│ dense (\u001b[38;5;33mDense\u001b[0m)                   │ (\u001b[38;5;45mNone\u001b[0m, \u001b[38;5;34m50\u001b[0m)             │           \u001b[38;5;34m450\u001b[0m │\n",
       "├─────────────────────────────────┼────────────────────────┼───────────────┤\n",
       "│ dense_1 (\u001b[38;5;33mDense\u001b[0m)                 │ (\u001b[38;5;45mNone\u001b[0m, \u001b[38;5;34m50\u001b[0m)             │         \u001b[38;5;34m2,550\u001b[0m │\n",
       "├─────────────────────────────────┼────────────────────────┼───────────────┤\n",
       "│ dense_2 (\u001b[38;5;33mDense\u001b[0m)                 │ (\u001b[38;5;45mNone\u001b[0m, \u001b[38;5;34m1\u001b[0m)              │            \u001b[38;5;34m51\u001b[0m │\n",
       "└─────────────────────────────────┴────────────────────────┴───────────────┘\n"
      ]
     },
     "metadata": {},
     "output_type": "display_data"
    },
    {
     "data": {
      "text/html": [
       "<pre style=\"white-space:pre;overflow-x:auto;line-height:normal;font-family:Menlo,'DejaVu Sans Mono',consolas,'Courier New',monospace\"><span style=\"font-weight: bold\"> Total params: </span><span style=\"color: #00af00; text-decoration-color: #00af00\">3,051</span> (11.92 KB)\n",
       "</pre>\n"
      ],
      "text/plain": [
       "\u001b[1m Total params: \u001b[0m\u001b[38;5;34m3,051\u001b[0m (11.92 KB)\n"
      ]
     },
     "metadata": {},
     "output_type": "display_data"
    },
    {
     "data": {
      "text/html": [
       "<pre style=\"white-space:pre;overflow-x:auto;line-height:normal;font-family:Menlo,'DejaVu Sans Mono',consolas,'Courier New',monospace\"><span style=\"font-weight: bold\"> Trainable params: </span><span style=\"color: #00af00; text-decoration-color: #00af00\">3,051</span> (11.92 KB)\n",
       "</pre>\n"
      ],
      "text/plain": [
       "\u001b[1m Trainable params: \u001b[0m\u001b[38;5;34m3,051\u001b[0m (11.92 KB)\n"
      ]
     },
     "metadata": {},
     "output_type": "display_data"
    },
    {
     "data": {
      "text/html": [
       "<pre style=\"white-space:pre;overflow-x:auto;line-height:normal;font-family:Menlo,'DejaVu Sans Mono',consolas,'Courier New',monospace\"><span style=\"font-weight: bold\"> Non-trainable params: </span><span style=\"color: #00af00; text-decoration-color: #00af00\">0</span> (0.00 B)\n",
       "</pre>\n"
      ],
      "text/plain": [
       "\u001b[1m Non-trainable params: \u001b[0m\u001b[38;5;34m0\u001b[0m (0.00 B)\n"
      ]
     },
     "metadata": {},
     "output_type": "display_data"
    }
   ],
   "source": [
    "# build the model\n",
    "model = regression_model(n_cols)\n",
    "model.summary()"
   ]
  },
  {
   "cell_type": "markdown",
   "metadata": {},
   "source": [
    "Now we will split our data into training and testing with a 70%-30% split (test_size=0.3).   \n",
    "\n",
    "70% of our data will be used for training :\n",
    "\n",
    "X_train : Our training data containing the variables the model will use to learn how to predict.\n",
    "\n",
    "y_train : Our training data containing the labels.\n",
    "\n",
    "#\n",
    "30% of our data will be used for testing its performance metrics :\n",
    "\n",
    "X_test : Unseen data by the model, we will use it to make predictions with our trained model.\n",
    "\n",
    "y_test : The labels associated with X_test data, we will compare them with the predictions that our model provided as output when shown X_test and that way we will obtain performance metrics."
   ]
  },
  {
   "cell_type": "code",
   "execution_count": 49,
   "metadata": {},
   "outputs": [],
   "source": [
    "from sklearn.model_selection import train_test_split\n",
    "\n",
    "# Split the dataset into training and test sets\n",
    "X_train, X_test, y_train, y_test = train_test_split(predictors_norm, target, test_size=0.3, random_state=42)"
   ]
  },
  {
   "cell_type": "markdown",
   "metadata": {},
   "source": [
    "Next, we will train the model using the *fit* method. We will train the model for 100 epochs.\n"
   ]
  },
  {
   "cell_type": "code",
   "execution_count": 51,
   "metadata": {},
   "outputs": [
    {
     "name": "stdout",
     "output_type": "stream",
     "text": [
      "Epoch 1/100\n",
      "23/23 - 0s - 11ms/step - loss: 1541.2819\n",
      "Epoch 2/100\n",
      "23/23 - 0s - 910us/step - loss: 1428.5844\n",
      "Epoch 3/100\n",
      "23/23 - 0s - 930us/step - loss: 1262.0283\n",
      "Epoch 4/100\n",
      "23/23 - 0s - 851us/step - loss: 1013.7786\n",
      "Epoch 5/100\n",
      "23/23 - 0s - 760us/step - loss: 699.7716\n",
      "Epoch 6/100\n",
      "23/23 - 0s - 747us/step - loss: 418.7799\n",
      "Epoch 7/100\n",
      "23/23 - 0s - 727us/step - loss: 263.0559\n",
      "Epoch 8/100\n",
      "23/23 - 0s - 728us/step - loss: 215.7027\n",
      "Epoch 9/100\n",
      "23/23 - 0s - 708us/step - loss: 199.4929\n",
      "Epoch 10/100\n",
      "23/23 - 0s - 703us/step - loss: 190.4789\n",
      "Epoch 11/100\n",
      "23/23 - 0s - 729us/step - loss: 182.9215\n",
      "Epoch 12/100\n",
      "23/23 - 0s - 772us/step - loss: 176.4402\n",
      "Epoch 13/100\n",
      "23/23 - 0s - 756us/step - loss: 171.6512\n",
      "Epoch 14/100\n",
      "23/23 - 0s - 731us/step - loss: 167.5122\n",
      "Epoch 15/100\n",
      "23/23 - 0s - 732us/step - loss: 163.7119\n",
      "Epoch 16/100\n",
      "23/23 - 0s - 741us/step - loss: 159.7008\n",
      "Epoch 17/100\n",
      "23/23 - 0s - 737us/step - loss: 156.7447\n",
      "Epoch 18/100\n",
      "23/23 - 0s - 739us/step - loss: 154.1825\n",
      "Epoch 19/100\n",
      "23/23 - 0s - 728us/step - loss: 151.9096\n",
      "Epoch 20/100\n",
      "23/23 - 0s - 737us/step - loss: 150.0976\n",
      "Epoch 21/100\n",
      "23/23 - 0s - 726us/step - loss: 147.2221\n",
      "Epoch 22/100\n",
      "23/23 - 0s - 772us/step - loss: 146.0423\n",
      "Epoch 23/100\n",
      "23/23 - 0s - 766us/step - loss: 143.7839\n",
      "Epoch 24/100\n",
      "23/23 - 0s - 736us/step - loss: 143.1618\n",
      "Epoch 25/100\n",
      "23/23 - 0s - 723us/step - loss: 140.9458\n",
      "Epoch 26/100\n",
      "23/23 - 0s - 733us/step - loss: 139.4034\n",
      "Epoch 27/100\n",
      "23/23 - 0s - 744us/step - loss: 137.9393\n",
      "Epoch 28/100\n",
      "23/23 - 0s - 766us/step - loss: 136.7807\n",
      "Epoch 29/100\n",
      "23/23 - 0s - 820us/step - loss: 135.0861\n",
      "Epoch 30/100\n",
      "23/23 - 0s - 778us/step - loss: 133.6270\n",
      "Epoch 31/100\n",
      "23/23 - 0s - 764us/step - loss: 132.4332\n",
      "Epoch 32/100\n",
      "23/23 - 0s - 759us/step - loss: 130.8985\n",
      "Epoch 33/100\n",
      "23/23 - 0s - 747us/step - loss: 129.4762\n",
      "Epoch 34/100\n",
      "23/23 - 0s - 780us/step - loss: 129.1946\n",
      "Epoch 35/100\n",
      "23/23 - 0s - 745us/step - loss: 126.8611\n",
      "Epoch 36/100\n",
      "23/23 - 0s - 724us/step - loss: 125.5543\n",
      "Epoch 37/100\n",
      "23/23 - 0s - 763us/step - loss: 124.5658\n",
      "Epoch 38/100\n",
      "23/23 - 0s - 773us/step - loss: 123.4133\n",
      "Epoch 39/100\n",
      "23/23 - 0s - 748us/step - loss: 122.2664\n",
      "Epoch 40/100\n",
      "23/23 - 0s - 753us/step - loss: 120.6392\n",
      "Epoch 41/100\n",
      "23/23 - 0s - 728us/step - loss: 120.6782\n",
      "Epoch 42/100\n",
      "23/23 - 0s - 758us/step - loss: 118.2639\n",
      "Epoch 43/100\n",
      "23/23 - 0s - 751us/step - loss: 116.7865\n",
      "Epoch 44/100\n",
      "23/23 - 0s - 739us/step - loss: 114.6794\n",
      "Epoch 45/100\n",
      "23/23 - 0s - 747us/step - loss: 113.9547\n",
      "Epoch 46/100\n",
      "23/23 - 0s - 747us/step - loss: 112.1781\n",
      "Epoch 47/100\n",
      "23/23 - 0s - 747us/step - loss: 110.8746\n",
      "Epoch 48/100\n",
      "23/23 - 0s - 723us/step - loss: 108.8632\n",
      "Epoch 49/100\n",
      "23/23 - 0s - 777us/step - loss: 106.9650\n",
      "Epoch 50/100\n",
      "23/23 - 0s - 749us/step - loss: 105.4845\n",
      "Epoch 51/100\n",
      "23/23 - 0s - 725us/step - loss: 104.0238\n",
      "Epoch 52/100\n",
      "23/23 - 0s - 782us/step - loss: 102.2074\n",
      "Epoch 53/100\n",
      "23/23 - 0s - 745us/step - loss: 101.1428\n",
      "Epoch 54/100\n",
      "23/23 - 0s - 741us/step - loss: 98.8452\n",
      "Epoch 55/100\n",
      "23/23 - 0s - 746us/step - loss: 96.8529\n",
      "Epoch 56/100\n",
      "23/23 - 0s - 759us/step - loss: 94.8379\n",
      "Epoch 57/100\n",
      "23/23 - 0s - 803us/step - loss: 93.1513\n",
      "Epoch 58/100\n",
      "23/23 - 0s - 773us/step - loss: 91.1329\n",
      "Epoch 59/100\n",
      "23/23 - 0s - 785us/step - loss: 89.1572\n",
      "Epoch 60/100\n",
      "23/23 - 0s - 775us/step - loss: 86.7760\n",
      "Epoch 61/100\n",
      "23/23 - 0s - 782us/step - loss: 84.8577\n",
      "Epoch 62/100\n",
      "23/23 - 0s - 745us/step - loss: 82.5608\n",
      "Epoch 63/100\n",
      "23/23 - 0s - 748us/step - loss: 80.6677\n",
      "Epoch 64/100\n",
      "23/23 - 0s - 755us/step - loss: 78.9774\n",
      "Epoch 65/100\n",
      "23/23 - 0s - 769us/step - loss: 76.4190\n",
      "Epoch 66/100\n",
      "23/23 - 0s - 719us/step - loss: 73.7663\n",
      "Epoch 67/100\n",
      "23/23 - 0s - 785us/step - loss: 71.9764\n",
      "Epoch 68/100\n",
      "23/23 - 0s - 833us/step - loss: 69.9222\n",
      "Epoch 69/100\n",
      "23/23 - 0s - 753us/step - loss: 68.4996\n",
      "Epoch 70/100\n",
      "23/23 - 0s - 777us/step - loss: 66.2948\n",
      "Epoch 71/100\n",
      "23/23 - 0s - 770us/step - loss: 64.5349\n",
      "Epoch 72/100\n",
      "23/23 - 0s - 754us/step - loss: 61.5689\n",
      "Epoch 73/100\n",
      "23/23 - 0s - 768us/step - loss: 60.1079\n",
      "Epoch 74/100\n",
      "23/23 - 0s - 755us/step - loss: 58.0989\n",
      "Epoch 75/100\n",
      "23/23 - 0s - 749us/step - loss: 56.6301\n",
      "Epoch 76/100\n",
      "23/23 - 0s - 788us/step - loss: 54.7724\n",
      "Epoch 77/100\n",
      "23/23 - 0s - 773us/step - loss: 53.8532\n",
      "Epoch 78/100\n",
      "23/23 - 0s - 730us/step - loss: 52.6937\n",
      "Epoch 79/100\n",
      "23/23 - 0s - 737us/step - loss: 51.8331\n",
      "Epoch 80/100\n",
      "23/23 - 0s - 811us/step - loss: 50.1780\n",
      "Epoch 81/100\n",
      "23/23 - 0s - 728us/step - loss: 49.6339\n",
      "Epoch 82/100\n",
      "23/23 - 0s - 756us/step - loss: 48.5244\n",
      "Epoch 83/100\n",
      "23/23 - 0s - 759us/step - loss: 47.3690\n",
      "Epoch 84/100\n",
      "23/23 - 0s - 832us/step - loss: 46.4823\n",
      "Epoch 85/100\n",
      "23/23 - 0s - 800us/step - loss: 45.1775\n",
      "Epoch 86/100\n",
      "23/23 - 0s - 746us/step - loss: 44.5210\n",
      "Epoch 87/100\n",
      "23/23 - 0s - 773us/step - loss: 43.4352\n",
      "Epoch 88/100\n",
      "23/23 - 0s - 783us/step - loss: 43.0055\n",
      "Epoch 89/100\n",
      "23/23 - 0s - 843us/step - loss: 42.3732\n",
      "Epoch 90/100\n",
      "23/23 - 0s - 785us/step - loss: 41.6420\n",
      "Epoch 91/100\n",
      "23/23 - 0s - 804us/step - loss: 41.1611\n",
      "Epoch 92/100\n",
      "23/23 - 0s - 774us/step - loss: 40.7909\n",
      "Epoch 93/100\n",
      "23/23 - 0s - 832us/step - loss: 39.8461\n",
      "Epoch 94/100\n",
      "23/23 - 0s - 806us/step - loss: 39.5223\n",
      "Epoch 95/100\n",
      "23/23 - 0s - 797us/step - loss: 38.7759\n",
      "Epoch 96/100\n",
      "23/23 - 0s - 790us/step - loss: 38.1885\n",
      "Epoch 97/100\n",
      "23/23 - 0s - 783us/step - loss: 39.9747\n",
      "Epoch 98/100\n",
      "23/23 - 0s - 818us/step - loss: 37.6916\n",
      "Epoch 99/100\n",
      "23/23 - 0s - 819us/step - loss: 37.3984\n",
      "Epoch 100/100\n",
      "23/23 - 0s - 835us/step - loss: 37.0089\n"
     ]
    },
    {
     "data": {
      "text/plain": [
       "<keras.src.callbacks.history.History at 0x30c3c3980>"
      ]
     },
     "execution_count": 51,
     "metadata": {},
     "output_type": "execute_result"
    }
   ],
   "source": [
    "# fit the model\n",
    "model.fit(X_train, y_train, epochs=100, verbose=2)"
   ]
  },
  {
   "cell_type": "markdown",
   "metadata": {},
   "source": [
    "### Now lets evaluate our model and get performance metrics !\n",
    "\n",
    "First, since our model only saw the training data and learned from it, we will make predictions on the unseen test set.\n",
    "\n",
    "y_pred are the predictions that our model generated from it's experience when shown the predictor variables of X_test.\n",
    "\n",
    "That way we can compare y_pred (predictions made by our model) with y_test (the real labels of X_test) and see the difference as performance metrics."
   ]
  },
  {
   "cell_type": "code",
   "execution_count": 53,
   "metadata": {},
   "outputs": [
    {
     "name": "stdout",
     "output_type": "stream",
     "text": [
      "\u001b[1m10/10\u001b[0m \u001b[32m━━━━━━━━━━━━━━━━━━━━\u001b[0m\u001b[37m\u001b[0m \u001b[1m0s\u001b[0m 2ms/step \n"
     ]
    }
   ],
   "source": [
    "# Make predictions on the test set\n",
    "y_pred = model.predict(X_test)"
   ]
  },
  {
   "cell_type": "markdown",
   "metadata": {},
   "source": [
    "Since this is a regression model we will be using mean squared error, mean absolute error and the r squared score to evaluate it."
   ]
  },
  {
   "cell_type": "code",
   "execution_count": 55,
   "metadata": {},
   "outputs": [
    {
     "name": "stdout",
     "output_type": "stream",
     "text": [
      "Mean Squared Error (MSE): 43.4408\n",
      "Mean Absolute Error (MAE): 5.0672\n",
      "R² Score: 0.8394\n"
     ]
    }
   ],
   "source": [
    "# Calculate and print regression metrics\n",
    "from sklearn.metrics import mean_squared_error, mean_absolute_error, r2_score\n",
    "\n",
    "mse = mean_squared_error(y_test, y_pred)\n",
    "mae = mean_absolute_error(y_test, y_pred)\n",
    "r2 = r2_score(y_test, y_pred)\n",
    "\n",
    "print(f'Mean Squared Error (MSE): {mse:.4f}')\n",
    "print(f'Mean Absolute Error (MAE): {mae:.4f}')\n",
    "print(f'R² Score: {r2:.4f}')"
   ]
  },
  {
   "cell_type": "markdown",
   "metadata": {},
   "source": [
    "Feel free to vary the following and note what impact each change has on the model's performance:\n",
    "\n",
    "1. Increase or decreate number of neurons in hidden layers\n",
    "2. Add more hidden layers\n",
    "3. Increase number of epochs\n"
   ]
  },
  {
   "cell_type": "code",
   "execution_count": 57,
   "metadata": {},
   "outputs": [],
   "source": [
    "# define regression model\n",
    "def regression_model_version2(input_dim):\n",
    "    # create model\n",
    "    model = Sequential([\n",
    "        Input(shape=(input_dim,)),                         # Explicit input layer\n",
    "        Dense(128, activation='relu'),                    # First hidden layer\n",
    "        Dropout(0.2),                                     # Dropout for regularization\n",
    "        Dense(64, activation='relu'),                     # Second hidden layer\n",
    "        Dense(32, activation='relu'),                     # Third hidden layer\n",
    "        Dropout(0.2),\n",
    "        Dense(16, activation='relu'),                     # Fourth hidden layer\n",
    "        Dense(1, activation='linear')                     # Output layer for regression\n",
    "    ])\n",
    "    \n",
    "    # Compile model\n",
    "    model.compile(optimizer='adam', loss='mean_squared_error')\n",
    "    return model"
   ]
  },
  {
   "cell_type": "code",
   "execution_count": 58,
   "metadata": {},
   "outputs": [
    {
     "data": {
      "text/html": [
       "<pre style=\"white-space:pre;overflow-x:auto;line-height:normal;font-family:Menlo,'DejaVu Sans Mono',consolas,'Courier New',monospace\"><span style=\"font-weight: bold\">Model: \"sequential_1\"</span>\n",
       "</pre>\n"
      ],
      "text/plain": [
       "\u001b[1mModel: \"sequential_1\"\u001b[0m\n"
      ]
     },
     "metadata": {},
     "output_type": "display_data"
    },
    {
     "data": {
      "text/html": [
       "<pre style=\"white-space:pre;overflow-x:auto;line-height:normal;font-family:Menlo,'DejaVu Sans Mono',consolas,'Courier New',monospace\">┏━━━━━━━━━━━━━━━━━━━━━━━━━━━━━━━━━┳━━━━━━━━━━━━━━━━━━━━━━━━┳━━━━━━━━━━━━━━━┓\n",
       "┃<span style=\"font-weight: bold\"> Layer (type)                    </span>┃<span style=\"font-weight: bold\"> Output Shape           </span>┃<span style=\"font-weight: bold\">       Param # </span>┃\n",
       "┡━━━━━━━━━━━━━━━━━━━━━━━━━━━━━━━━━╇━━━━━━━━━━━━━━━━━━━━━━━━╇━━━━━━━━━━━━━━━┩\n",
       "│ dense_3 (<span style=\"color: #0087ff; text-decoration-color: #0087ff\">Dense</span>)                 │ (<span style=\"color: #00d7ff; text-decoration-color: #00d7ff\">None</span>, <span style=\"color: #00af00; text-decoration-color: #00af00\">128</span>)            │         <span style=\"color: #00af00; text-decoration-color: #00af00\">1,152</span> │\n",
       "├─────────────────────────────────┼────────────────────────┼───────────────┤\n",
       "│ dropout (<span style=\"color: #0087ff; text-decoration-color: #0087ff\">Dropout</span>)               │ (<span style=\"color: #00d7ff; text-decoration-color: #00d7ff\">None</span>, <span style=\"color: #00af00; text-decoration-color: #00af00\">128</span>)            │             <span style=\"color: #00af00; text-decoration-color: #00af00\">0</span> │\n",
       "├─────────────────────────────────┼────────────────────────┼───────────────┤\n",
       "│ dense_4 (<span style=\"color: #0087ff; text-decoration-color: #0087ff\">Dense</span>)                 │ (<span style=\"color: #00d7ff; text-decoration-color: #00d7ff\">None</span>, <span style=\"color: #00af00; text-decoration-color: #00af00\">64</span>)             │         <span style=\"color: #00af00; text-decoration-color: #00af00\">8,256</span> │\n",
       "├─────────────────────────────────┼────────────────────────┼───────────────┤\n",
       "│ dense_5 (<span style=\"color: #0087ff; text-decoration-color: #0087ff\">Dense</span>)                 │ (<span style=\"color: #00d7ff; text-decoration-color: #00d7ff\">None</span>, <span style=\"color: #00af00; text-decoration-color: #00af00\">32</span>)             │         <span style=\"color: #00af00; text-decoration-color: #00af00\">2,080</span> │\n",
       "├─────────────────────────────────┼────────────────────────┼───────────────┤\n",
       "│ dropout_1 (<span style=\"color: #0087ff; text-decoration-color: #0087ff\">Dropout</span>)             │ (<span style=\"color: #00d7ff; text-decoration-color: #00d7ff\">None</span>, <span style=\"color: #00af00; text-decoration-color: #00af00\">32</span>)             │             <span style=\"color: #00af00; text-decoration-color: #00af00\">0</span> │\n",
       "├─────────────────────────────────┼────────────────────────┼───────────────┤\n",
       "│ dense_6 (<span style=\"color: #0087ff; text-decoration-color: #0087ff\">Dense</span>)                 │ (<span style=\"color: #00d7ff; text-decoration-color: #00d7ff\">None</span>, <span style=\"color: #00af00; text-decoration-color: #00af00\">16</span>)             │           <span style=\"color: #00af00; text-decoration-color: #00af00\">528</span> │\n",
       "├─────────────────────────────────┼────────────────────────┼───────────────┤\n",
       "│ dense_7 (<span style=\"color: #0087ff; text-decoration-color: #0087ff\">Dense</span>)                 │ (<span style=\"color: #00d7ff; text-decoration-color: #00d7ff\">None</span>, <span style=\"color: #00af00; text-decoration-color: #00af00\">1</span>)              │            <span style=\"color: #00af00; text-decoration-color: #00af00\">17</span> │\n",
       "└─────────────────────────────────┴────────────────────────┴───────────────┘\n",
       "</pre>\n"
      ],
      "text/plain": [
       "┏━━━━━━━━━━━━━━━━━━━━━━━━━━━━━━━━━┳━━━━━━━━━━━━━━━━━━━━━━━━┳━━━━━━━━━━━━━━━┓\n",
       "┃\u001b[1m \u001b[0m\u001b[1mLayer (type)                   \u001b[0m\u001b[1m \u001b[0m┃\u001b[1m \u001b[0m\u001b[1mOutput Shape          \u001b[0m\u001b[1m \u001b[0m┃\u001b[1m \u001b[0m\u001b[1m      Param #\u001b[0m\u001b[1m \u001b[0m┃\n",
       "┡━━━━━━━━━━━━━━━━━━━━━━━━━━━━━━━━━╇━━━━━━━━━━━━━━━━━━━━━━━━╇━━━━━━━━━━━━━━━┩\n",
       "│ dense_3 (\u001b[38;5;33mDense\u001b[0m)                 │ (\u001b[38;5;45mNone\u001b[0m, \u001b[38;5;34m128\u001b[0m)            │         \u001b[38;5;34m1,152\u001b[0m │\n",
       "├─────────────────────────────────┼────────────────────────┼───────────────┤\n",
       "│ dropout (\u001b[38;5;33mDropout\u001b[0m)               │ (\u001b[38;5;45mNone\u001b[0m, \u001b[38;5;34m128\u001b[0m)            │             \u001b[38;5;34m0\u001b[0m │\n",
       "├─────────────────────────────────┼────────────────────────┼───────────────┤\n",
       "│ dense_4 (\u001b[38;5;33mDense\u001b[0m)                 │ (\u001b[38;5;45mNone\u001b[0m, \u001b[38;5;34m64\u001b[0m)             │         \u001b[38;5;34m8,256\u001b[0m │\n",
       "├─────────────────────────────────┼────────────────────────┼───────────────┤\n",
       "│ dense_5 (\u001b[38;5;33mDense\u001b[0m)                 │ (\u001b[38;5;45mNone\u001b[0m, \u001b[38;5;34m32\u001b[0m)             │         \u001b[38;5;34m2,080\u001b[0m │\n",
       "├─────────────────────────────────┼────────────────────────┼───────────────┤\n",
       "│ dropout_1 (\u001b[38;5;33mDropout\u001b[0m)             │ (\u001b[38;5;45mNone\u001b[0m, \u001b[38;5;34m32\u001b[0m)             │             \u001b[38;5;34m0\u001b[0m │\n",
       "├─────────────────────────────────┼────────────────────────┼───────────────┤\n",
       "│ dense_6 (\u001b[38;5;33mDense\u001b[0m)                 │ (\u001b[38;5;45mNone\u001b[0m, \u001b[38;5;34m16\u001b[0m)             │           \u001b[38;5;34m528\u001b[0m │\n",
       "├─────────────────────────────────┼────────────────────────┼───────────────┤\n",
       "│ dense_7 (\u001b[38;5;33mDense\u001b[0m)                 │ (\u001b[38;5;45mNone\u001b[0m, \u001b[38;5;34m1\u001b[0m)              │            \u001b[38;5;34m17\u001b[0m │\n",
       "└─────────────────────────────────┴────────────────────────┴───────────────┘\n"
      ]
     },
     "metadata": {},
     "output_type": "display_data"
    },
    {
     "data": {
      "text/html": [
       "<pre style=\"white-space:pre;overflow-x:auto;line-height:normal;font-family:Menlo,'DejaVu Sans Mono',consolas,'Courier New',monospace\"><span style=\"font-weight: bold\"> Total params: </span><span style=\"color: #00af00; text-decoration-color: #00af00\">12,033</span> (47.00 KB)\n",
       "</pre>\n"
      ],
      "text/plain": [
       "\u001b[1m Total params: \u001b[0m\u001b[38;5;34m12,033\u001b[0m (47.00 KB)\n"
      ]
     },
     "metadata": {},
     "output_type": "display_data"
    },
    {
     "data": {
      "text/html": [
       "<pre style=\"white-space:pre;overflow-x:auto;line-height:normal;font-family:Menlo,'DejaVu Sans Mono',consolas,'Courier New',monospace\"><span style=\"font-weight: bold\"> Trainable params: </span><span style=\"color: #00af00; text-decoration-color: #00af00\">12,033</span> (47.00 KB)\n",
       "</pre>\n"
      ],
      "text/plain": [
       "\u001b[1m Trainable params: \u001b[0m\u001b[38;5;34m12,033\u001b[0m (47.00 KB)\n"
      ]
     },
     "metadata": {},
     "output_type": "display_data"
    },
    {
     "data": {
      "text/html": [
       "<pre style=\"white-space:pre;overflow-x:auto;line-height:normal;font-family:Menlo,'DejaVu Sans Mono',consolas,'Courier New',monospace\"><span style=\"font-weight: bold\"> Non-trainable params: </span><span style=\"color: #00af00; text-decoration-color: #00af00\">0</span> (0.00 B)\n",
       "</pre>\n"
      ],
      "text/plain": [
       "\u001b[1m Non-trainable params: \u001b[0m\u001b[38;5;34m0\u001b[0m (0.00 B)\n"
      ]
     },
     "metadata": {},
     "output_type": "display_data"
    }
   ],
   "source": [
    "model_version2 = regression_model_version2(input_dim=n_cols)  # Build the model\n",
    "model_version2.summary()  # Print model summary"
   ]
  },
  {
   "cell_type": "code",
   "execution_count": 59,
   "metadata": {},
   "outputs": [],
   "source": [
    "# Split the dataset into training and test sets\n",
    "X_train, X_test, y_train, y_test = train_test_split(predictors_norm, target, test_size=0.3, random_state=42)"
   ]
  },
  {
   "cell_type": "code",
   "execution_count": 60,
   "metadata": {},
   "outputs": [
    {
     "name": "stdout",
     "output_type": "stream",
     "text": [
      "Epoch 1/100\n",
      "23/23 - 0s - 18ms/step - loss: 1506.5284\n",
      "Epoch 2/100\n",
      "23/23 - 0s - 1ms/step - loss: 1012.5695\n",
      "Epoch 3/100\n",
      "23/23 - 0s - 1ms/step - loss: 361.9189\n",
      "Epoch 4/100\n",
      "23/23 - 0s - 1ms/step - loss: 248.3746\n",
      "Epoch 5/100\n",
      "23/23 - 0s - 811us/step - loss: 226.4765\n",
      "Epoch 6/100\n",
      "23/23 - 0s - 803us/step - loss: 211.5013\n",
      "Epoch 7/100\n",
      "23/23 - 0s - 793us/step - loss: 204.6122\n",
      "Epoch 8/100\n",
      "23/23 - 0s - 816us/step - loss: 212.2970\n",
      "Epoch 9/100\n",
      "23/23 - 0s - 844us/step - loss: 188.3201\n",
      "Epoch 10/100\n",
      "23/23 - 0s - 874us/step - loss: 183.7838\n",
      "Epoch 11/100\n",
      "23/23 - 0s - 1ms/step - loss: 172.6186\n",
      "Epoch 12/100\n",
      "23/23 - 0s - 1ms/step - loss: 166.8078\n",
      "Epoch 13/100\n",
      "23/23 - 0s - 953us/step - loss: 156.2429\n",
      "Epoch 14/100\n",
      "23/23 - 0s - 939us/step - loss: 163.5040\n",
      "Epoch 15/100\n",
      "23/23 - 0s - 926us/step - loss: 162.4820\n",
      "Epoch 16/100\n",
      "23/23 - 0s - 873us/step - loss: 139.1870\n",
      "Epoch 17/100\n",
      "23/23 - 0s - 850us/step - loss: 134.5186\n",
      "Epoch 18/100\n",
      "23/23 - 0s - 821us/step - loss: 135.7166\n",
      "Epoch 19/100\n",
      "23/23 - 0s - 833us/step - loss: 123.0136\n",
      "Epoch 20/100\n",
      "23/23 - 0s - 807us/step - loss: 126.6185\n",
      "Epoch 21/100\n",
      "23/23 - 0s - 943us/step - loss: 109.6284\n",
      "Epoch 22/100\n",
      "23/23 - 0s - 955us/step - loss: 107.6411\n",
      "Epoch 23/100\n",
      "23/23 - 0s - 861us/step - loss: 100.4530\n",
      "Epoch 24/100\n",
      "23/23 - 0s - 911us/step - loss: 103.2133\n",
      "Epoch 25/100\n",
      "23/23 - 0s - 850us/step - loss: 97.2804\n",
      "Epoch 26/100\n",
      "23/23 - 0s - 847us/step - loss: 99.9778\n",
      "Epoch 27/100\n",
      "23/23 - 0s - 828us/step - loss: 100.4149\n",
      "Epoch 28/100\n",
      "23/23 - 0s - 861us/step - loss: 88.6341\n",
      "Epoch 29/100\n",
      "23/23 - 0s - 812us/step - loss: 83.0944\n",
      "Epoch 30/100\n",
      "23/23 - 0s - 829us/step - loss: 84.3235\n",
      "Epoch 31/100\n",
      "23/23 - 0s - 788us/step - loss: 87.7622\n",
      "Epoch 32/100\n",
      "23/23 - 0s - 799us/step - loss: 79.9052\n",
      "Epoch 33/100\n",
      "23/23 - 0s - 804us/step - loss: 81.5937\n",
      "Epoch 34/100\n",
      "23/23 - 0s - 781us/step - loss: 76.6903\n",
      "Epoch 35/100\n",
      "23/23 - 0s - 807us/step - loss: 88.0790\n",
      "Epoch 36/100\n",
      "23/23 - 0s - 792us/step - loss: 74.4041\n",
      "Epoch 37/100\n",
      "23/23 - 0s - 797us/step - loss: 74.8928\n",
      "Epoch 38/100\n",
      "23/23 - 0s - 781us/step - loss: 73.2672\n",
      "Epoch 39/100\n",
      "23/23 - 0s - 781us/step - loss: 70.3321\n",
      "Epoch 40/100\n",
      "23/23 - 0s - 797us/step - loss: 74.5983\n",
      "Epoch 41/100\n",
      "23/23 - 0s - 804us/step - loss: 80.8405\n",
      "Epoch 42/100\n",
      "23/23 - 0s - 809us/step - loss: 75.2954\n",
      "Epoch 43/100\n",
      "23/23 - 0s - 900us/step - loss: 74.1446\n",
      "Epoch 44/100\n",
      "23/23 - 0s - 824us/step - loss: 66.8767\n",
      "Epoch 45/100\n",
      "23/23 - 0s - 816us/step - loss: 74.4687\n",
      "Epoch 46/100\n",
      "23/23 - 0s - 798us/step - loss: 68.2307\n",
      "Epoch 47/100\n",
      "23/23 - 0s - 785us/step - loss: 66.6718\n",
      "Epoch 48/100\n",
      "23/23 - 0s - 796us/step - loss: 60.4631\n",
      "Epoch 49/100\n",
      "23/23 - 0s - 799us/step - loss: 68.1654\n",
      "Epoch 50/100\n",
      "23/23 - 0s - 813us/step - loss: 68.1081\n",
      "Epoch 51/100\n",
      "23/23 - 0s - 807us/step - loss: 58.4070\n",
      "Epoch 52/100\n",
      "23/23 - 0s - 795us/step - loss: 63.0811\n",
      "Epoch 53/100\n",
      "23/23 - 0s - 805us/step - loss: 62.0794\n",
      "Epoch 54/100\n",
      "23/23 - 0s - 801us/step - loss: 59.3621\n",
      "Epoch 55/100\n",
      "23/23 - 0s - 789us/step - loss: 64.2509\n",
      "Epoch 56/100\n",
      "23/23 - 0s - 798us/step - loss: 59.3678\n",
      "Epoch 57/100\n",
      "23/23 - 0s - 788us/step - loss: 62.0736\n",
      "Epoch 58/100\n",
      "23/23 - 0s - 782us/step - loss: 61.1695\n",
      "Epoch 59/100\n",
      "23/23 - 0s - 788us/step - loss: 59.9894\n",
      "Epoch 60/100\n",
      "23/23 - 0s - 830us/step - loss: 56.7670\n",
      "Epoch 61/100\n",
      "23/23 - 0s - 807us/step - loss: 61.5025\n",
      "Epoch 62/100\n",
      "23/23 - 0s - 857us/step - loss: 60.5461\n",
      "Epoch 63/100\n",
      "23/23 - 0s - 802us/step - loss: 56.6539\n",
      "Epoch 64/100\n",
      "23/23 - 0s - 797us/step - loss: 52.8009\n",
      "Epoch 65/100\n",
      "23/23 - 0s - 795us/step - loss: 55.8587\n",
      "Epoch 66/100\n",
      "23/23 - 0s - 790us/step - loss: 58.9443\n",
      "Epoch 67/100\n",
      "23/23 - 0s - 785us/step - loss: 54.3323\n",
      "Epoch 68/100\n",
      "23/23 - 0s - 809us/step - loss: 55.2727\n",
      "Epoch 69/100\n",
      "23/23 - 0s - 791us/step - loss: 49.1431\n",
      "Epoch 70/100\n",
      "23/23 - 0s - 781us/step - loss: 52.4756\n",
      "Epoch 71/100\n",
      "23/23 - 0s - 780us/step - loss: 48.7997\n",
      "Epoch 72/100\n",
      "23/23 - 0s - 800us/step - loss: 51.9765\n",
      "Epoch 73/100\n",
      "23/23 - 0s - 785us/step - loss: 49.8133\n",
      "Epoch 74/100\n",
      "23/23 - 0s - 817us/step - loss: 47.4235\n",
      "Epoch 75/100\n",
      "23/23 - 0s - 790us/step - loss: 48.4559\n",
      "Epoch 76/100\n",
      "23/23 - 0s - 778us/step - loss: 53.3248\n",
      "Epoch 77/100\n",
      "23/23 - 0s - 792us/step - loss: 48.7112\n",
      "Epoch 78/100\n",
      "23/23 - 0s - 795us/step - loss: 52.3270\n",
      "Epoch 79/100\n",
      "23/23 - 0s - 784us/step - loss: 49.6255\n",
      "Epoch 80/100\n",
      "23/23 - 0s - 783us/step - loss: 57.7027\n",
      "Epoch 81/100\n",
      "23/23 - 0s - 820us/step - loss: 49.6434\n",
      "Epoch 82/100\n",
      "23/23 - 0s - 786us/step - loss: 47.1161\n",
      "Epoch 83/100\n",
      "23/23 - 0s - 784us/step - loss: 44.7161\n",
      "Epoch 84/100\n",
      "23/23 - 0s - 802us/step - loss: 46.7216\n",
      "Epoch 85/100\n",
      "23/23 - 0s - 794us/step - loss: 49.4875\n",
      "Epoch 86/100\n",
      "23/23 - 0s - 799us/step - loss: 46.0787\n",
      "Epoch 87/100\n",
      "23/23 - 0s - 794us/step - loss: 44.3090\n",
      "Epoch 88/100\n",
      "23/23 - 0s - 793us/step - loss: 47.9379\n",
      "Epoch 89/100\n",
      "23/23 - 0s - 783us/step - loss: 44.9635\n",
      "Epoch 90/100\n",
      "23/23 - 0s - 796us/step - loss: 45.6326\n",
      "Epoch 91/100\n",
      "23/23 - 0s - 793us/step - loss: 45.3235\n",
      "Epoch 92/100\n",
      "23/23 - 0s - 798us/step - loss: 43.8267\n",
      "Epoch 93/100\n",
      "23/23 - 0s - 782us/step - loss: 42.5479\n",
      "Epoch 94/100\n",
      "23/23 - 0s - 795us/step - loss: 45.4005\n",
      "Epoch 95/100\n",
      "23/23 - 0s - 801us/step - loss: 42.4914\n",
      "Epoch 96/100\n",
      "23/23 - 0s - 792us/step - loss: 46.7129\n",
      "Epoch 97/100\n",
      "23/23 - 0s - 794us/step - loss: 45.9986\n",
      "Epoch 98/100\n",
      "23/23 - 0s - 790us/step - loss: 46.7078\n",
      "Epoch 99/100\n",
      "23/23 - 0s - 795us/step - loss: 46.3625\n",
      "Epoch 100/100\n",
      "23/23 - 0s - 788us/step - loss: 47.8058\n"
     ]
    },
    {
     "data": {
      "text/plain": [
       "<keras.src.callbacks.history.History at 0x30d0faf00>"
      ]
     },
     "execution_count": 60,
     "metadata": {},
     "output_type": "execute_result"
    }
   ],
   "source": [
    "# fit the model\n",
    "model_version2.fit(X_train, y_train, epochs=100, verbose=2)"
   ]
  },
  {
   "cell_type": "code",
   "execution_count": 61,
   "metadata": {},
   "outputs": [
    {
     "name": "stdout",
     "output_type": "stream",
     "text": [
      "\u001b[1m10/10\u001b[0m \u001b[32m━━━━━━━━━━━━━━━━━━━━\u001b[0m\u001b[37m\u001b[0m \u001b[1m0s\u001b[0m 2ms/step \n"
     ]
    }
   ],
   "source": [
    "# Make predictions on the test set\n",
    "y_pred = model_version2.predict(X_test)"
   ]
  },
  {
   "cell_type": "code",
   "execution_count": 62,
   "metadata": {},
   "outputs": [
    {
     "name": "stdout",
     "output_type": "stream",
     "text": [
      "Mean Squared Error (MSE): 31.8443\n",
      "Mean Absolute Error (MAE): 4.2934\n",
      "R² Score: 0.8823\n"
     ]
    }
   ],
   "source": [
    "mse = mean_squared_error(y_test, y_pred)\n",
    "mae = mean_absolute_error(y_test, y_pred)\n",
    "r2 = r2_score(y_test, y_pred)\n",
    "\n",
    "print(f'Mean Squared Error (MSE): {mse:.4f}')\n",
    "print(f'Mean Absolute Error (MAE): {mae:.4f}')\n",
    "print(f'R² Score: {r2:.4f}')"
   ]
  },
  {
   "cell_type": "markdown",
   "metadata": {},
   "source": [
    "For other models, other types of performance metrics are more meaningfull. It all depends on context and the end goal of the model. \n",
    "\n",
    "Research, planning and analysing various metrics with a clearly defined end goal is key to understanding how capable a model is and what are his limitations.\n",
    "\n",
    "Keep that in mind when tackling the next exercises!"
   ]
  },
  {
   "cell_type": "markdown",
   "metadata": {},
   "source": [
    "### Thank you for following this tutorial - feel free to go back and play with the architcture and parameters"
   ]
  }
 ],
 "metadata": {
  "kernelspec": {
   "display_name": "Python 3 (ipykernel)",
   "language": "python",
   "name": "python3"
  },
  "language_info": {
   "codemirror_mode": {
    "name": "ipython",
    "version": 3
   },
   "file_extension": ".py",
   "mimetype": "text/x-python",
   "name": "python",
   "nbconvert_exporter": "python",
   "pygments_lexer": "ipython3",
   "version": "3.12.2"
  }
 },
 "nbformat": 4,
 "nbformat_minor": 4
}
